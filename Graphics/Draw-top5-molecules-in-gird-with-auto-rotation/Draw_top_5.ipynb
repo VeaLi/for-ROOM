{
  "nbformat": 4,
  "nbformat_minor": 0,
  "metadata": {
    "colab": {
      "name": "Draw top 5.ipynb",
      "provenance": []
    },
    "kernelspec": {
      "name": "python3",
      "display_name": "Python 3"
    },
    "language_info": {
      "name": "python"
    }
  },
  "cells": [
    {
      "cell_type": "code",
      "execution_count": 1,
      "metadata": {
        "colab": {
          "base_uri": "https://localhost:8080/"
        },
        "id": "R-oWd892aTk4",
        "outputId": "56805c9c-6a73-4e23-e96d-e6c3e12d4113"
      },
      "outputs": [
        {
          "output_type": "stream",
          "name": "stdout",
          "text": [
            "Requirement already satisfied: svgutils in /usr/local/lib/python3.7/dist-packages (0.3.4)\n",
            "Requirement already satisfied: lxml in /usr/local/lib/python3.7/dist-packages (from svgutils) (4.2.6)\n",
            "Requirement already satisfied: rdkit-pypi==2021.9.4 in /usr/local/lib/python3.7/dist-packages (2021.9.4)\n",
            "Requirement already satisfied: numpy>=1.19 in /usr/local/lib/python3.7/dist-packages (from rdkit-pypi==2021.9.4) (1.21.5)\n",
            "Requirement already satisfied: Pillow in /usr/local/lib/python3.7/dist-packages (from rdkit-pypi==2021.9.4) (7.1.2)\n"
          ]
        }
      ],
      "source": [
        "!pip install svgutils\n",
        "# Grid is broken in latest version!\n",
        "!pip install rdkit-pypi==2021.9.4"
      ]
    },
    {
      "cell_type": "code",
      "source": [
        "from IPython.display import SVG\n",
        "import svgutils.transform as sg\n",
        "\n",
        "from rdkit import Chem\n",
        "from rdkit.Chem import rdFMCS\n",
        "from rdkit.Chem import AllChem\n",
        "from rdkit.Chem import Draw\n",
        "\n",
        "import pandas as pd\n",
        "import os\n",
        "import numpy as np\n",
        "from tqdm.auto import tqdm\n",
        "from functools import lru_cache\n",
        "\n",
        "tqdm.pandas()"
      ],
      "metadata": {
        "id": "HS2DUzmAaihU"
      },
      "execution_count": 2,
      "outputs": []
    },
    {
      "cell_type": "code",
      "source": [
        "@lru_cache(200000)\n",
        "def make_rdkit_canonical(s):\n",
        "    ms = Chem.MolFromSmiles(s)\n",
        "    s = Chem.MolToSmiles(ms, canonical=True, isomericSmiles=False)\n",
        "    return s\n",
        "\n",
        "@lru_cache(200000)\n",
        "def get_mol(s):\n",
        "    mol = Chem.MolFromSmiles(s)\n",
        "    # mol = Chem.AddHs(mol)\n",
        "    AllChem.EmbedMolecule(mol, randomSeed=7)\n",
        "    AllChem.UFFOptimizeMolecule(mol)\n",
        "    return mol"
      ],
      "metadata": {
        "id": "zTSjz_gwakth"
      },
      "execution_count": 3,
      "outputs": []
    },
    {
      "cell_type": "code",
      "source": [
        "def draw_in_gird(path, col = 'similarity', xlabeltext = None):\n",
        "\n",
        "    for target_folder in os.listdir(path):\n",
        "        \n",
        "        F, T = [], []\n",
        "        t100, t300, t500, t700, t900 = [], [], [], [], []\n",
        "\n",
        "        for K, k in enumerate(sorted(os.listdir(path+target_folder))):\n",
        "            df = pd.read_csv(path + target_folder + '/' + k)\n",
        "            df = df.sort_values(by=col, ascending=False)\n",
        "            mols = [get_mol(s) for s in df.smiles.values.tolist()[:5]]\n",
        "            template = mols[2]\n",
        "            mcs = rdFMCS.FindMCS(mols, threshold=0.9, completeRingsOnly=True, ringMatchesRingOnly=True)\n",
        "            patt = Chem.MolFromSmarts(mcs.smartsString)\n",
        "\n",
        "            for query in mols:\n",
        "\n",
        "                query_match = query.GetSubstructMatch(patt)\n",
        "                template_match = template.GetSubstructMatch(patt)\n",
        "\n",
        "                AllChem.Compute2DCoords(query)\n",
        "                AllChem.Compute2DCoords(patt)\n",
        "\n",
        "                rms = AllChem.AlignMol(query, template, atomMap=list(\n",
        "                    zip(query_match, template_match)))\n",
        "\n",
        "            im = Draw.MolsToGridImage(\n",
        "                mols, molsPerRow=5, useSVG=True, subImgSize=(200, 200))\n",
        "            \n",
        "            with open(f\"tmp.svg\", 'w') as f:\n",
        "                f.write(im)\n",
        "\n",
        "            fg = sg.fromfile(f\"tmp.svg\").getroot()\n",
        "            fg.moveto(0, 200*K)\n",
        "            txt = sg.TextElement(-((200*K)+130), 0, k.replace('.csv', ''), size=18, font = 'Arial')\n",
        "            txt.rotate(angle = -90)\n",
        "\n",
        "            five_scores = [str(np.round(s, 3)) for s in df[col].values.tolist()[:5]]\n",
        "\n",
        "            i = 0\n",
        "            for t, p in zip([t100, t300, t500, t700, t900], [100, 300, 500, 700, 900]):\n",
        "                t.append(sg.TextElement(p, (K+1)*200, five_scores[i], size=14, font = 'Arial'))\n",
        "                i+=1\n",
        "            \n",
        "            T.append(txt)\n",
        "            F.append(fg)\n",
        "\n",
        "        fig = sg.SVGFigure(\"21.0cm\", \"29.7cm\")\n",
        "        fig.append(F)\n",
        "        fig.append(T)\n",
        "        for t in [t100, t300, t500, t700, t900]:\n",
        "            fig.append(t)\n",
        "\n",
        "        # 550\n",
        "        names = {\"gaba\": \"GABA\", \"mtor\": \"mTOR\", \"vdr\": \"VDR\"}\n",
        "        title = sg.TextElement(500, 0, names[target_folder], size=21, font = 'Arial')\n",
        "        xlabel = sg.TextElement(450, (K+1)*200 + 50, xlabeltext, size=21, font = 'Arial')\n",
        "        \n",
        "        fig.append(title)\n",
        "        fig.append(xlabel)\n",
        "\n",
        "        # save generated SVG files\n",
        "        fig.save(f\"top5-by-{col}-{target_folder}.svg\")\n",
        "\n",
        "        fig = sg.SVGFigure(\"21.0cm\", \"29.7cm\")\n",
        "        fg = sg.fromfile(f\"top5-by-{col}-{target_folder}.svg\").getroot()\n",
        "        fig.append(fg)\n",
        "        fig.save(f\"top5-by-{col}-{target_folder}.svg\")"
      ],
      "metadata": {
        "id": "gsDNeAA9auGE"
      },
      "execution_count": 18,
      "outputs": []
    },
    {
      "cell_type": "code",
      "source": [
        "!unzip predict_data.zip"
      ],
      "metadata": {
        "colab": {
          "base_uri": "https://localhost:8080/"
        },
        "id": "uiDj1xZrcSKF",
        "outputId": "4c14cf82-b626-4eb0-b7bf-ea1beea2c6af"
      },
      "execution_count": 12,
      "outputs": [
        {
          "output_type": "stream",
          "name": "stdout",
          "text": [
            "Archive:  predict_data.zip\n",
            "replace predict_data/gaba/CDN.csv? [y]es, [n]o, [A]ll, [N]one, [r]ename: N\n"
          ]
        }
      ]
    },
    {
      "cell_type": "code",
      "source": [
        "# If something not 2d you need to run function below 2 times in a row. No idea why. \n",
        "# See output svg, if it is 2d or if it is 3d-like. Then run again\n",
        "draw_in_gird('predict_data/', 'similarity', 'Similarity scores')\n",
        "draw_in_gird('predict_data/', 'similarity', 'Similarity scores')"
      ],
      "metadata": {
        "id": "PjR7qmuccYW8"
      },
      "execution_count": 20,
      "outputs": []
    },
    {
      "cell_type": "code",
      "source": [
        "!zip sim-svg.zip top5-by-similarity-vdr.svg top5-by-similarity-gaba.svg top5-by-similarity-mtor.svg"
      ],
      "metadata": {
        "colab": {
          "base_uri": "https://localhost:8080/"
        },
        "id": "WOdAeQ1be3We",
        "outputId": "bec46d4c-266c-4f1b-80cc-d3c9ad8580cf"
      },
      "execution_count": 21,
      "outputs": [
        {
          "output_type": "stream",
          "name": "stdout",
          "text": [
            "updating: top5-by-similarity-vdr.svg (deflated 89%)\n",
            "updating: top5-by-similarity-gaba.svg (deflated 89%)\n",
            "updating: top5-by-similarity-mtor.svg (deflated 89%)\n"
          ]
        }
      ]
    },
    {
      "cell_type": "code",
      "source": [
        "draw_in_gird('predict_data/', 'score-svm', 'SVM-scores')\n",
        "draw_in_gird('predict_data/', 'score-svm', 'SVM-scores')"
      ],
      "metadata": {
        "id": "BePNkSFqfr-o"
      },
      "execution_count": 19,
      "outputs": []
    },
    {
      "cell_type": "code",
      "source": [
        "!zip svm-svg.zip top5-by-score-svm-vdr.svg top5-by-score-svm-gaba.svg top5-by-score-svm-mtor.svg"
      ],
      "metadata": {
        "colab": {
          "base_uri": "https://localhost:8080/"
        },
        "id": "uVHYPVcngcGW",
        "outputId": "0548a3de-dec2-421f-cdff-61ed68f98aa7"
      },
      "execution_count": 22,
      "outputs": [
        {
          "output_type": "stream",
          "name": "stdout",
          "text": [
            "updating: top5-by-score-svm-vdr.svg (deflated 89%)\n",
            "updating: top5-by-score-svm-gaba.svg (deflated 90%)\n",
            "updating: top5-by-score-svm-mtor.svg (deflated 89%)\n"
          ]
        }
      ]
    }
  ]
}