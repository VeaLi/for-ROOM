{
 "cells": [
  {
   "cell_type": "markdown",
   "metadata": {
    "toc": true
   },
   "source": [
    "<h1>Table of Contents<span class=\"tocSkip\"></span></h1>\n",
    "<div class=\"toc\"><ul class=\"toc-item\"></ul></div>"
   ]
  },
  {
   "cell_type": "code",
   "execution_count": 1,
   "metadata": {
    "colab": {
     "base_uri": "https://localhost:8080/"
    },
    "id": "R-oWd892aTk4",
    "outputId": "56805c9c-6a73-4e23-e96d-e6c3e12d4113"
   },
   "outputs": [
    {
     "name": "stdout",
     "output_type": "stream",
     "text": [
      "Requirement already satisfied: svgutils in /usr/local/lib/python3.7/dist-packages (0.3.4)\n",
      "Requirement already satisfied: lxml in /usr/local/lib/python3.7/dist-packages (from svgutils) (4.2.6)\n",
      "Requirement already satisfied: rdkit-pypi==2021.9.4 in /usr/local/lib/python3.7/dist-packages (2021.9.4)\n",
      "Requirement already satisfied: numpy>=1.19 in /usr/local/lib/python3.7/dist-packages (from rdkit-pypi==2021.9.4) (1.21.5)\n",
      "Requirement already satisfied: Pillow in /usr/local/lib/python3.7/dist-packages (from rdkit-pypi==2021.9.4) (7.1.2)\n"
     ]
    }
   ],
   "source": [
    "!pip install svgutils\n",
    "# Grid is broken in latest version!\n",
    "!pip install rdkit-pypi==2021.9.4"
   ]
  },
  {
   "cell_type": "code",
   "execution_count": 2,
   "metadata": {
    "id": "HS2DUzmAaihU"
   },
   "outputs": [],
   "source": [
    "from IPython.display import SVG\n",
    "import svgutils.transform as sg\n",
    "\n",
    "from rdkit import Chem\n",
    "from rdkit.Chem import rdFMCS\n",
    "from rdkit.Chem import AllChem\n",
    "from rdkit.Chem import Draw\n",
    "\n",
    "import pandas as pd\n",
    "import os\n",
    "import numpy as np\n",
    "from tqdm.auto import tqdm\n",
    "from functools import lru_cache\n",
    "\n",
    "tqdm.pandas()"
   ]
  },
  {
   "cell_type": "code",
   "execution_count": 3,
   "metadata": {
    "id": "zTSjz_gwakth"
   },
   "outputs": [],
   "source": [
    "@lru_cache(200000)\n",
    "def make_rdkit_canonical(s):\n",
    "    ms = Chem.MolFromSmiles(s)\n",
    "    s = Chem.MolToSmiles(ms, canonical=True, isomericSmiles=False)\n",
    "    return s\n",
    "\n",
    "\n",
    "@lru_cache(200000)\n",
    "def get_mol(s):\n",
    "    \"\"\"\n",
    "    Do not add H, if you do not need them\n",
    "    \"\"\"\n",
    "    mol = Chem.MolFromSmiles(s)\n",
    "    # mol = Chem.AddHs(mol)\n",
    "    AllChem.EmbedMolecule(mol, randomSeed=7)\n",
    "    AllChem.UFFOptimizeMolecule(mol)\n",
    "    return mol"
   ]
  },
  {
   "cell_type": "code",
   "execution_count": 4,
   "metadata": {
    "id": "gsDNeAA9auGE"
   },
   "outputs": [],
   "source": [
    "def draw_in_gird(path, col='similarity', xlabeltext=None):\n",
    "\n",
    "    for target_folder in os.listdir(path):\n",
    "\n",
    "        F, T = [], []\n",
    "        t100, t300, t500, t700, t900 = [], [], [], [], []\n",
    "\n",
    "        for K, k in enumerate(sorted(os.listdir(path + target_folder))):\n",
    "            df = pd.read_csv(path + target_folder + '/' + k)\n",
    "            df = df.sort_values(by=col, ascending=False)\n",
    "            \n",
    "            # auto rotate 2d\n",
    "            mols = [get_mol(s) for s in df.smiles.values.tolist()[:5]]\n",
    "            template = mols[2]\n",
    "            \n",
    "            mcs = rdFMCS.FindMCS(mols,\n",
    "                                 threshold=0.9,\n",
    "                                 completeRingsOnly=True,\n",
    "                                 ringMatchesRingOnly=True)\n",
    "            patt = Chem.MolFromSmarts(mcs.smartsString)\n",
    "\n",
    "            for query in mols:\n",
    "\n",
    "                query_match = query.GetSubstructMatch(patt)\n",
    "                template_match = template.GetSubstructMatch(patt)\n",
    "\n",
    "                AllChem.Compute2DCoords(query)\n",
    "                AllChem.Compute2DCoords(patt)\n",
    "\n",
    "                rms = AllChem.AlignMol(query,\n",
    "                                       template,\n",
    "                                       atomMap=list(\n",
    "                                           zip(query_match, template_match)))\n",
    "\n",
    "            im = Draw.MolsToGridImage(mols,\n",
    "                                      molsPerRow=5,\n",
    "                                      useSVG=True,\n",
    "                                      subImgSize=(200, 200))\n",
    "\n",
    "            with open(f\"tmp.svg\", 'w') as f:\n",
    "                f.write(im)\n",
    "                \n",
    "            # read and concat\n",
    "            fg = sg.fromfile(f\"tmp.svg\").getroot()\n",
    "            fg.moveto(0, 200 * K)\n",
    "            txt = sg.TextElement(-((200 * K) + 130),\n",
    "                                 0,\n",
    "                                 k.replace('.csv', ''),\n",
    "                                 size=18,\n",
    "                                 font='Arial')\n",
    "            txt.rotate(angle=-90)\n",
    "\n",
    "            five_scores = [\n",
    "                str(np.round(s, 3))\n",
    "                for s in df[col].values.tolist()[:5]\n",
    "            ]\n",
    "\n",
    "            i = 0\n",
    "            for t, p in zip([t100, t300, t500, t700, t900],\n",
    "                            [100, 300, 500, 700, 900]):\n",
    "                t.append(\n",
    "                    sg.TextElement(p, (K + 1) * 200,\n",
    "                                   five_scores[i],\n",
    "                                   size=14,\n",
    "                                   font='Arial'))\n",
    "                i += 1\n",
    "\n",
    "            T.append(txt)\n",
    "            F.append(fg)\n",
    "\n",
    "        fig = sg.SVGFigure(\"21.0cm\", \"29.7cm\")\n",
    "        fig.append(F)\n",
    "        fig.append(T)\n",
    "        for t in [t100, t300, t500, t700, t900]:\n",
    "            fig.append(t)\n",
    "\n",
    "        names = {\"gaba\": \"GABA\", \"mtor\": \"mTOR\", \"vdr\": \"VDR\"}\n",
    "        title = sg.TextElement(500,\n",
    "                               0,\n",
    "                               names[target_folder],\n",
    "                               size=21,\n",
    "                               font='Arial')\n",
    "        xlabel = sg.TextElement(450, (K + 1) * 200 + 50,\n",
    "                                xlabeltext,\n",
    "                                size=21,\n",
    "                                font='Arial')\n",
    "\n",
    "        fig.append(title)\n",
    "        fig.append(xlabel)\n",
    "\n",
    "        # save generated SVG files\n",
    "        fig.save(f\"top5-by-{col}-{target_folder}.svg\")"
   ]
  },
  {
   "cell_type": "code",
   "execution_count": 5,
   "metadata": {
    "colab": {
     "base_uri": "https://localhost:8080/"
    },
    "id": "uiDj1xZrcSKF",
    "outputId": "e5aed49b-e220-4e09-c133-4c08eff4a75b"
   },
   "outputs": [
    {
     "name": "stdout",
     "output_type": "stream",
     "text": [
      "Archive:  predict_data.zip\n",
      "replace predict_data/gaba/CDN.csv? [y]es, [n]o, [A]ll, [N]one, [r]ename: A\n",
      "  inflating: predict_data/gaba/CDN.csv  \n",
      "  inflating: predict_data/gaba/GMDLDR.csv  \n",
      "  inflating: predict_data/gaba/LigDream.csv  \n",
      "  inflating: predict_data/gaba/REINVENT.csv  \n",
      "  inflating: predict_data/gaba/REINVENT3.csv  \n",
      "  inflating: predict_data/gaba/Transmol.csv  \n",
      "  inflating: predict_data/gaba/TransVAE.csv  \n",
      "  inflating: predict_data/mtor/CDN.csv  \n",
      "  inflating: predict_data/mtor/GMDLDR.csv  \n",
      "  inflating: predict_data/mtor/LigDream.csv  \n",
      "  inflating: predict_data/mtor/REINVENT.csv  \n",
      "  inflating: predict_data/mtor/REINVENT3.csv  \n",
      "  inflating: predict_data/mtor/Transmol.csv  \n",
      "  inflating: predict_data/mtor/TransVAE.csv  \n",
      "  inflating: predict_data/vdr/CDN.csv  \n",
      "  inflating: predict_data/vdr/GMDLDR.csv  \n",
      "  inflating: predict_data/vdr/LigDream.csv  \n",
      "  inflating: predict_data/vdr/REINVENT.csv  \n",
      "  inflating: predict_data/vdr/REINVENT3.csv  \n",
      "  inflating: predict_data/vdr/Transmol.csv  \n",
      "  inflating: predict_data/vdr/TransVAE.csv  \n"
     ]
    }
   ],
   "source": [
    "!unzip predict_data.zip"
   ]
  },
  {
   "cell_type": "code",
   "execution_count": 6,
   "metadata": {
    "id": "PjR7qmuccYW8"
   },
   "outputs": [],
   "source": [
    "# If something is not 2d you need to run function below 2 times in a row. No idea why. \n",
    "# See output svg if it is 2d or if it is 3d like. Then run again\n",
    "draw_in_gird('predict_data/', 'similarity', 'Similarity scores')\n",
    "draw_in_gird('predict_data/', 'similarity', 'Similarity scores')"
   ]
  },
  {
   "cell_type": "code",
   "execution_count": 7,
   "metadata": {
    "id": "C8F0EeZjeJbo"
   },
   "outputs": [],
   "source": [
    "fig = sg.fromfile(f'top5-by-similarity-gaba.svg')"
   ]
  },
  {
   "cell_type": "code",
   "execution_count": 8,
   "metadata": {
    "colab": {
     "base_uri": "https://localhost:8080/"
    },
    "id": "WOdAeQ1be3We",
    "outputId": "806fc575-cbe9-44f4-ffe9-637a66443fce"
   },
   "outputs": [
    {
     "name": "stdout",
     "output_type": "stream",
     "text": [
      "updating: top5-by-similarity-vdr.svg (deflated 89%)\n",
      "updating: top5-by-similarity-gaba.svg (deflated 89%)\n",
      "updating: top5-by-similarity-mtor.svg (deflated 89%)\n"
     ]
    }
   ],
   "source": [
    "!zip sim-svg.zip top5-by-similarity-vdr.svg top5-by-similarity-gaba.svg top5-by-similarity-mtor.svg"
   ]
  },
  {
   "cell_type": "code",
   "execution_count": 9,
   "metadata": {
    "id": "BePNkSFqfr-o"
   },
   "outputs": [],
   "source": [
    "draw_in_gird('predict_data/', 'score-svm', 'SVM-scores')\n",
    "draw_in_gird('predict_data/', 'score-svm', 'SVM-scores')"
   ]
  },
  {
   "cell_type": "code",
   "execution_count": 10,
   "metadata": {
    "colab": {
     "base_uri": "https://localhost:8080/"
    },
    "id": "uVHYPVcngcGW",
    "outputId": "4768944e-f736-4f44-82a5-bdaeede19396"
   },
   "outputs": [
    {
     "name": "stdout",
     "output_type": "stream",
     "text": [
      "updating: top5-by-score-svm-vdr.svg (deflated 89%)\n",
      "updating: top5-by-score-svm-gaba.svg (deflated 90%)\n",
      "updating: top5-by-score-svm-mtor.svg (deflated 89%)\n"
     ]
    }
   ],
   "source": [
    "!zip svm-svg.zip top5-by-score-svm-vdr.svg top5-by-score-svm-gaba.svg top5-by-score-svm-mtor.svg"
   ]
  }
 ],
 "metadata": {
  "colab": {
   "name": "Draw top 5.ipynb",
   "provenance": []
  },
  "kernelspec": {
   "display_name": "Python 3",
   "language": "python",
   "name": "python3"
  },
  "language_info": {
   "codemirror_mode": {
    "name": "ipython",
    "version": 3
   },
   "file_extension": ".py",
   "mimetype": "text/x-python",
   "name": "python",
   "nbconvert_exporter": "python",
   "pygments_lexer": "ipython3",
   "version": "3.8.8"
  },
  "latex_envs": {
   "LaTeX_envs_menu_present": true,
   "autoclose": false,
   "autocomplete": true,
   "bibliofile": "biblio.bib",
   "cite_by": "apalike",
   "current_citInitial": 1,
   "eqLabelWithNumbers": true,
   "eqNumInitial": 1,
   "hotkeys": {
    "equation": "Ctrl-E",
    "itemize": "Ctrl-I"
   },
   "labels_anchors": false,
   "latex_user_defs": false,
   "report_style_numbering": false,
   "user_envs_cfg": false
  },
  "nbTranslate": {
   "displayLangs": [
    "*"
   ],
   "hotkey": "alt-t",
   "langInMainMenu": true,
   "sourceLang": "en",
   "targetLang": "fr",
   "useGoogleTranslate": true
  },
  "toc": {
   "base_numbering": 1,
   "nav_menu": {},
   "number_sections": true,
   "sideBar": true,
   "skip_h1_title": false,
   "title_cell": "Table of Contents",
   "title_sidebar": "Contents",
   "toc_cell": true,
   "toc_position": {},
   "toc_section_display": true,
   "toc_window_display": false
  }
 },
 "nbformat": 4,
 "nbformat_minor": 1
}
