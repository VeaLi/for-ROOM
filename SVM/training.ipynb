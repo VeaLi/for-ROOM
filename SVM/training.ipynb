{
 "cells": [
  {
   "cell_type": "markdown",
   "metadata": {
    "toc": true
   },
   "source": [
    "<h1>Table of Contents<span class=\"tocSkip\"></span></h1>\n",
    "<div class=\"toc\"><ul class=\"toc-item\"></ul></div>"
   ]
  },
  {
   "cell_type": "code",
   "execution_count": null,
   "metadata": {
    "id": "dtpWIGeYxp7q"
   },
   "outputs": [],
   "source": [
    "!pip install rdkit-pypi"
   ]
  },
  {
   "cell_type": "code",
   "execution_count": 2,
   "metadata": {
    "id": "SGjXMRsJyMEV"
   },
   "outputs": [],
   "source": [
    "import os\n",
    "\n",
    "import pandas as pd\n",
    "import numpy as np\n",
    "from data_handler import *\n",
    "\n",
    "\n",
    "from imblearn.over_sampling import RandomOverSampler\n",
    "\n",
    "\n",
    "from sklearn.svm import SVC\n",
    "from sklearn.model_selection import cross_validate\n",
    "from sklearn.model_selection import GridSearchCV\n",
    "\n",
    "import pickle\n",
    "\n",
    "np.random.seed(7)"
   ]
  },
  {
   "cell_type": "code",
   "execution_count": 4,
   "metadata": {
    "colab": {
     "base_uri": "https://localhost:8080/",
     "height": 295
    },
    "id": "LEQwikuVyagI",
    "outputId": "56783145-9382-42b6-b816-3084c411cec5"
   },
   "outputs": [
    {
     "data": {
      "text/html": [
       "\n",
       "  <div id=\"df-9acd92a5-ffbb-47e3-9c12-07793f8e72d3\">\n",
       "    <div class=\"colab-df-container\">\n",
       "      <div>\n",
       "<style scoped>\n",
       "    .dataframe tbody tr th:only-of-type {\n",
       "        vertical-align: middle;\n",
       "    }\n",
       "\n",
       "    .dataframe tbody tr th {\n",
       "        vertical-align: top;\n",
       "    }\n",
       "\n",
       "    .dataframe thead th {\n",
       "        text-align: right;\n",
       "    }\n",
       "</style>\n",
       "<table border=\"1\" class=\"dataframe\">\n",
       "  <thead>\n",
       "    <tr style=\"text-align: right;\">\n",
       "      <th></th>\n",
       "      <th>BindingDB Reactant_set_id</th>\n",
       "      <th>Ligand SMILES</th>\n",
       "      <th>Ligand InChI</th>\n",
       "      <th>Ligand InChI Key</th>\n",
       "      <th>BindingDB MonomerID</th>\n",
       "      <th>BindingDB Ligand Name</th>\n",
       "      <th>Target Name Assigned by Curator or DataSource</th>\n",
       "      <th>Target Source Organism According to Curator or DataSource</th>\n",
       "      <th>Ki (nM)</th>\n",
       "      <th>IC50 (nM)</th>\n",
       "      <th>...</th>\n",
       "      <th>UniProt (SwissProt) Recommended Name of Target Chain</th>\n",
       "      <th>UniProt (SwissProt) Entry Name of Target Chain</th>\n",
       "      <th>UniProt (SwissProt) Primary ID of Target Chain</th>\n",
       "      <th>UniProt (SwissProt) Secondary ID(s) of Target Chain</th>\n",
       "      <th>UniProt (SwissProt) Alternative ID(s) of Target Chain</th>\n",
       "      <th>UniProt (TrEMBL) Submitted Name of Target Chain</th>\n",
       "      <th>UniProt (TrEMBL) Entry Name of Target Chain</th>\n",
       "      <th>UniProt (TrEMBL) Primary ID of Target Chain</th>\n",
       "      <th>UniProt (TrEMBL) Secondary ID(s) of Target Chain</th>\n",
       "      <th>UniProt (TrEMBL) Alternative ID(s) of Target Chain</th>\n",
       "    </tr>\n",
       "  </thead>\n",
       "  <tbody>\n",
       "    <tr>\n",
       "      <th>0</th>\n",
       "      <td>499761</td>\n",
       "      <td>O=C(N[C@H]1CC[C@H](CCN2CCN(CC2)c2nsc3ccccc23)C...</td>\n",
       "      <td>InChI=1S/C28H33N5OS/c34-28(25-19-21-5-1-3-7-24...</td>\n",
       "      <td>KXAOPEMSBPZNPQ-AQYVVDRMSA-N</td>\n",
       "      <td>50207116</td>\n",
       "      <td>CHEMBL3905247::US9550741, I-4</td>\n",
       "      <td>Vitamin D3 receptor</td>\n",
       "      <td>Homo sapiens</td>\n",
       "      <td>0.029</td>\n",
       "      <td>NaN</td>\n",
       "      <td>...</td>\n",
       "      <td>Vitamin D3 receptor</td>\n",
       "      <td>VDR_HUMAN</td>\n",
       "      <td>P11473</td>\n",
       "      <td>B2R5Q1,G3V1V9,Q5PSV3</td>\n",
       "      <td>NaN</td>\n",
       "      <td>NaN</td>\n",
       "      <td>NaN</td>\n",
       "      <td>F1D8P8</td>\n",
       "      <td>NaN</td>\n",
       "      <td>NaN</td>\n",
       "    </tr>\n",
       "  </tbody>\n",
       "</table>\n",
       "<p>1 rows × 49 columns</p>\n",
       "</div>\n",
       "      <button class=\"colab-df-convert\" onclick=\"convertToInteractive('df-9acd92a5-ffbb-47e3-9c12-07793f8e72d3')\"\n",
       "              title=\"Convert this dataframe to an interactive table.\"\n",
       "              style=\"display:none;\">\n",
       "        \n",
       "  <svg xmlns=\"http://www.w3.org/2000/svg\" height=\"24px\"viewBox=\"0 0 24 24\"\n",
       "       width=\"24px\">\n",
       "    <path d=\"M0 0h24v24H0V0z\" fill=\"none\"/>\n",
       "    <path d=\"M18.56 5.44l.94 2.06.94-2.06 2.06-.94-2.06-.94-.94-2.06-.94 2.06-2.06.94zm-11 1L8.5 8.5l.94-2.06 2.06-.94-2.06-.94L8.5 2.5l-.94 2.06-2.06.94zm10 10l.94 2.06.94-2.06 2.06-.94-2.06-.94-.94-2.06-.94 2.06-2.06.94z\"/><path d=\"M17.41 7.96l-1.37-1.37c-.4-.4-.92-.59-1.43-.59-.52 0-1.04.2-1.43.59L10.3 9.45l-7.72 7.72c-.78.78-.78 2.05 0 2.83L4 21.41c.39.39.9.59 1.41.59.51 0 1.02-.2 1.41-.59l7.78-7.78 2.81-2.81c.8-.78.8-2.07 0-2.86zM5.41 20L4 18.59l7.72-7.72 1.47 1.35L5.41 20z\"/>\n",
       "  </svg>\n",
       "      </button>\n",
       "      \n",
       "  <style>\n",
       "    .colab-df-container {\n",
       "      display:flex;\n",
       "      flex-wrap:wrap;\n",
       "      gap: 12px;\n",
       "    }\n",
       "\n",
       "    .colab-df-convert {\n",
       "      background-color: #E8F0FE;\n",
       "      border: none;\n",
       "      border-radius: 50%;\n",
       "      cursor: pointer;\n",
       "      display: none;\n",
       "      fill: #1967D2;\n",
       "      height: 32px;\n",
       "      padding: 0 0 0 0;\n",
       "      width: 32px;\n",
       "    }\n",
       "\n",
       "    .colab-df-convert:hover {\n",
       "      background-color: #E2EBFA;\n",
       "      box-shadow: 0px 1px 2px rgba(60, 64, 67, 0.3), 0px 1px 3px 1px rgba(60, 64, 67, 0.15);\n",
       "      fill: #174EA6;\n",
       "    }\n",
       "\n",
       "    [theme=dark] .colab-df-convert {\n",
       "      background-color: #3B4455;\n",
       "      fill: #D2E3FC;\n",
       "    }\n",
       "\n",
       "    [theme=dark] .colab-df-convert:hover {\n",
       "      background-color: #434B5C;\n",
       "      box-shadow: 0px 1px 3px 1px rgba(0, 0, 0, 0.15);\n",
       "      filter: drop-shadow(0px 1px 2px rgba(0, 0, 0, 0.3));\n",
       "      fill: #FFFFFF;\n",
       "    }\n",
       "  </style>\n",
       "\n",
       "      <script>\n",
       "        const buttonEl =\n",
       "          document.querySelector('#df-9acd92a5-ffbb-47e3-9c12-07793f8e72d3 button.colab-df-convert');\n",
       "        buttonEl.style.display =\n",
       "          google.colab.kernel.accessAllowed ? 'block' : 'none';\n",
       "\n",
       "        async function convertToInteractive(key) {\n",
       "          const element = document.querySelector('#df-9acd92a5-ffbb-47e3-9c12-07793f8e72d3');\n",
       "          const dataTable =\n",
       "            await google.colab.kernel.invokeFunction('convertToInteractive',\n",
       "                                                     [key], {});\n",
       "          if (!dataTable) return;\n",
       "\n",
       "          const docLinkHtml = 'Like what you see? Visit the ' +\n",
       "            '<a target=\"_blank\" href=https://colab.research.google.com/notebooks/data_table.ipynb>data table notebook</a>'\n",
       "            + ' to learn more about interactive tables.';\n",
       "          element.innerHTML = '';\n",
       "          dataTable['output_type'] = 'display_data';\n",
       "          await google.colab.output.renderOutput(dataTable, element);\n",
       "          const docLink = document.createElement('div');\n",
       "          docLink.innerHTML = docLinkHtml;\n",
       "          element.appendChild(docLink);\n",
       "        }\n",
       "      </script>\n",
       "    </div>\n",
       "  </div>\n",
       "  "
      ],
      "text/plain": [
       "   BindingDB Reactant_set_id  \\\n",
       "0                     499761   \n",
       "\n",
       "                                       Ligand SMILES  \\\n",
       "0  O=C(N[C@H]1CC[C@H](CCN2CCN(CC2)c2nsc3ccccc23)C...   \n",
       "\n",
       "                                        Ligand InChI  \\\n",
       "0  InChI=1S/C28H33N5OS/c34-28(25-19-21-5-1-3-7-24...   \n",
       "\n",
       "              Ligand InChI Key  BindingDB MonomerID  \\\n",
       "0  KXAOPEMSBPZNPQ-AQYVVDRMSA-N             50207116   \n",
       "\n",
       "           BindingDB Ligand Name  \\\n",
       "0  CHEMBL3905247::US9550741, I-4   \n",
       "\n",
       "  Target Name Assigned by Curator or DataSource  \\\n",
       "0                           Vitamin D3 receptor   \n",
       "\n",
       "  Target Source Organism According to Curator or DataSource Ki (nM) IC50 (nM)  \\\n",
       "0                                       Homo sapiens          0.029       NaN   \n",
       "\n",
       "   ... UniProt (SwissProt) Recommended Name of Target Chain  \\\n",
       "0  ...                                Vitamin D3 receptor     \n",
       "\n",
       "  UniProt (SwissProt) Entry Name of Target Chain  \\\n",
       "0                                      VDR_HUMAN   \n",
       "\n",
       "   UniProt (SwissProt) Primary ID of Target Chain  \\\n",
       "0                                          P11473   \n",
       "\n",
       "   UniProt (SwissProt) Secondary ID(s) of Target Chain  \\\n",
       "0                               B2R5Q1,G3V1V9,Q5PSV3     \n",
       "\n",
       "   UniProt (SwissProt) Alternative ID(s) of Target Chain  \\\n",
       "0                                                NaN       \n",
       "\n",
       "  UniProt (TrEMBL) Submitted Name of Target Chain  \\\n",
       "0                                             NaN   \n",
       "\n",
       "  UniProt (TrEMBL) Entry Name of Target Chain  \\\n",
       "0                                         NaN   \n",
       "\n",
       "  UniProt (TrEMBL) Primary ID of Target Chain  \\\n",
       "0                                      F1D8P8   \n",
       "\n",
       "   UniProt (TrEMBL) Secondary ID(s) of Target Chain  \\\n",
       "0                                               NaN   \n",
       "\n",
       "   UniProt (TrEMBL) Alternative ID(s) of Target Chain  \n",
       "0                                                NaN   \n",
       "\n",
       "[1 rows x 49 columns]"
      ]
     },
     "execution_count": 4,
     "metadata": {},
     "output_type": "execute_result"
    }
   ],
   "source": [
    "# Data in BindingDB format\n",
    "VDR = pd.read_csv(\"BindingDB_data/Vitamin-D3-Receptor.zip\", sep='\\t', compression = 'zip')\n",
    "GABA = pd.read_csv(\"BindingDB_data/Gamma-aminobutyric acid receptor subunit alpha-1.zip\", sep='\\t', compression = 'zip')\n",
    "mTOR = pd.read_csv(\"BindingDB_data/Serine-threonine-protein kinase mTOR.zip\", sep='\\t', compression = 'zip')\n",
    "\n",
    "VDR.head(1)"
   ]
  },
  {
   "cell_type": "code",
   "execution_count": 5,
   "metadata": {
    "colab": {
     "base_uri": "https://localhost:8080/"
    },
    "id": "pIV04m6IXJqU",
    "outputId": "bda6758e-85cf-44ba-f377-60a23c034ccd"
   },
   "outputs": [
    {
     "name": "stdout",
     "output_type": "stream",
     "text": [
      "Num of active:  0.453 %\n",
      "Num of active after oversampling:  0.5 %\n",
      "Num of active:  0.743 %\n",
      "Num of active after oversampling:  0.5 %\n",
      "Num of active:  0.723 %\n",
      "Num of active after oversampling:  0.5 %\n"
     ]
    }
   ],
   "source": [
    "rus = RandomOverSampler(random_state=7)\n",
    "load = LoadDBForSklearn(1, rus)\n",
    "\n",
    "X_vdr, y_vdr = load.prepare(VDR.copy())\n",
    "X_gaba, y_gaba = load.prepare(GABA.copy())\n",
    "X_mtor, y_mtor = load.prepare(mTOR.copy())"
   ]
  },
  {
   "cell_type": "code",
   "execution_count": 6,
   "metadata": {
    "id": "VPMaSkV5bzPx"
   },
   "outputs": [],
   "source": [
    "base_svm = SVC(probability=True, class_weight='balanced')"
   ]
  },
  {
   "cell_type": "code",
   "execution_count": 7,
   "metadata": {
    "colab": {
     "base_uri": "https://localhost:8080/"
    },
    "id": "P22WvrtL2g-9",
    "outputId": "b5da3d4f-aa92-4ccf-ef54-d200a9e7e9e2"
   },
   "outputs": [
    {
     "data": {
      "text/plain": [
       "{'fit_time': array([1.16954684, 1.3992703 , 1.15316153]),\n",
       " 'score_time': array([0.16447926, 0.18742514, 0.22457147]),\n",
       " 'test_accuracy': array([0.94117647, 0.92016807, 0.91176471]),\n",
       " 'test_f1': array([0.94166667, 0.92244898, 0.91139241])}"
      ]
     },
     "execution_count": 7,
     "metadata": {},
     "output_type": "execute_result"
    }
   ],
   "source": [
    "cross_validate(base_svm, X_vdr, y_vdr, scoring=['accuracy', 'f1'], cv=3)"
   ]
  },
  {
   "cell_type": "code",
   "execution_count": 8,
   "metadata": {
    "colab": {
     "base_uri": "https://localhost:8080/"
    },
    "id": "NTNVTM3q2q1B",
    "outputId": "219b075e-a122-493f-ee31-0b8a58475393"
   },
   "outputs": [
    {
     "data": {
      "text/plain": [
       "{'fit_time': array([0.97588015, 0.91832495, 0.88276505]),\n",
       " 'score_time': array([0.1413281 , 0.15434074, 0.16423345]),\n",
       " 'test_accuracy': array([0.9537037 , 0.91162791, 0.89302326]),\n",
       " 'test_f1': array([0.9537037 , 0.90731707, 0.88442211])}"
      ]
     },
     "execution_count": 8,
     "metadata": {},
     "output_type": "execute_result"
    }
   ],
   "source": [
    "cross_validate(base_svm, X_gaba, y_gaba, scoring=['accuracy', 'f1'], cv=3)"
   ]
  },
  {
   "cell_type": "code",
   "execution_count": 9,
   "metadata": {
    "colab": {
     "base_uri": "https://localhost:8080/"
    },
    "id": "37aE4HiM2zhp",
    "outputId": "04597b77-e9e6-4675-bc0b-8270262a1417"
   },
   "outputs": [
    {
     "data": {
      "text/plain": [
       "{'fit_time': array([103.57470155,  98.3940475 ,  97.89733291]),\n",
       " 'score_time': array([10.17812681, 11.87894893, 10.39885306]),\n",
       " 'test_accuracy': array([0.92756037, 0.93213988, 0.93838468]),\n",
       " 'test_f1': array([0.92645816, 0.93148382, 0.93776283])}"
      ]
     },
     "execution_count": 9,
     "metadata": {},
     "output_type": "execute_result"
    }
   ],
   "source": [
    "cross_validate(base_svm, X_mtor, y_mtor, scoring=['accuracy', 'f1'], cv=3)"
   ]
  },
  {
   "cell_type": "code",
   "execution_count": 10,
   "metadata": {
    "colab": {
     "base_uri": "https://localhost:8080/"
    },
    "id": "Iq2rG9vJ3b0D",
    "outputId": "4099febf-08b9-461b-f9df-9cedadd1e644"
   },
   "outputs": [
    {
     "name": "stdout",
     "output_type": "stream",
     "text": [
      "{'C': 1, 'cache_size': 3000, 'class_weight': 'balanced', 'gamma': 'scale', 'kernel': 'rbf', 'probability': True, 'shrinking': False}\n"
     ]
    },
    {
     "data": {
      "text/plain": [
       "{'fit_time': array([0.65798783, 0.63946009, 0.62035394]),\n",
       " 'score_time': array([0.09915972, 0.09668398, 0.0955348 ]),\n",
       " 'test_accuracy': array([0.94117647, 0.92016807, 0.91176471]),\n",
       " 'test_f1': array([0.94166667, 0.92244898, 0.91139241])}"
      ]
     },
     "execution_count": 10,
     "metadata": {},
     "output_type": "execute_result"
    }
   ],
   "source": [
    "tuned_parameters = [{\n",
    "    \"kernel\": [\"rbf\"],\n",
    "    \"gamma\": [\"scale\"],\n",
    "    \"C\": [0.25, 0.5, 1, 2, 2**2, 2**4, 2**6, 2**8],\n",
    "    \"class_weight\": ['balanced'],\n",
    "    \"probability\": [True],\n",
    "    \"shrinking\": [False],\n",
    "    \"cache_size\": [3000]\n",
    "}]\n",
    "\n",
    "clf_vdr = GridSearchCV(base_svm, tuned_parameters, scoring='f1', cv=3)\n",
    "clf_vdr.fit(X_vdr, y_vdr)\n",
    "print(clf_vdr.best_params_)\n",
    "svc_vdr = clf_vdr.best_estimator_\n",
    "cross_validate(svc_vdr, X_vdr, y_vdr, scoring=['accuracy', 'f1'], cv=3)"
   ]
  },
  {
   "cell_type": "code",
   "execution_count": 11,
   "metadata": {
    "colab": {
     "base_uri": "https://localhost:8080/"
    },
    "id": "8ECtjFsCCfzy",
    "outputId": "5beaab51-a914-46c2-dbb0-e3246f73d3fb"
   },
   "outputs": [
    {
     "name": "stdout",
     "output_type": "stream",
     "text": [
      "{'C': 4, 'cache_size': 3000, 'class_weight': 'balanced', 'gamma': 'scale', 'kernel': 'rbf', 'probability': True, 'shrinking': False}\n"
     ]
    },
    {
     "data": {
      "text/plain": [
       "{'fit_time': array([0.48609138, 0.48164344, 0.46433401]),\n",
       " 'score_time': array([0.07081509, 0.07026768, 0.06919861]),\n",
       " 'test_accuracy': array([0.96759259, 0.9255814 , 0.9255814 ]),\n",
       " 'test_f1': array([0.96744186, 0.92307692, 0.92156863])}"
      ]
     },
     "execution_count": 11,
     "metadata": {},
     "output_type": "execute_result"
    }
   ],
   "source": [
    "clf_gaba = GridSearchCV(base_svm, tuned_parameters, scoring='f1', cv=3)\n",
    "clf_gaba.fit(X_gaba, y_gaba)\n",
    "print(clf_gaba.best_params_)\n",
    "\n",
    "svc_gaba = clf_gaba.best_estimator_\n",
    "cross_validate(svc_gaba, X_gaba, y_gaba, scoring=['accuracy', 'f1'], cv=3)"
   ]
  },
  {
   "cell_type": "code",
   "execution_count": 12,
   "metadata": {
    "colab": {
     "base_uri": "https://localhost:8080/"
    },
    "id": "irTC86C7AtrA",
    "outputId": "de58ce09-bebc-4461-b8d5-e962b10d3143"
   },
   "outputs": [
    {
     "name": "stdout",
     "output_type": "stream",
     "text": [
      "{'C': 16, 'cache_size': 3000, 'class_weight': 'balanced', 'gamma': 'scale', 'kernel': 'rbf', 'probability': True, 'shrinking': False}\n"
     ]
    },
    {
     "data": {
      "text/plain": [
       "{'fit_time': array([79.73646307, 79.02252507, 85.77738929]),\n",
       " 'score_time': array([8.71906757, 9.30167079, 9.14257884]),\n",
       " 'test_accuracy': array([0.95212323, 0.96044963, 0.96586178]),\n",
       " 'test_f1': array([0.95133305, 0.95986481, 0.96563286])}"
      ]
     },
     "execution_count": 12,
     "metadata": {},
     "output_type": "execute_result"
    }
   ],
   "source": [
    "clf_mtor = GridSearchCV(base_svm, tuned_parameters, scoring='f1', cv=3)\n",
    "clf_mtor.fit(X_mtor, y_mtor)\n",
    "print(clf_mtor.best_params_)\n",
    "\n",
    "svc_mtor = clf_mtor.best_estimator_\n",
    "cross_validate(svc_mtor, X_mtor, y_mtor, scoring=['accuracy', 'f1'], cv=3)"
   ]
  },
  {
   "cell_type": "code",
   "execution_count": 13,
   "metadata": {
    "id": "y1dgSE4Y3595"
   },
   "outputs": [],
   "source": [
    "svc_vdr = svc_vdr.fit(X_vdr, y_vdr)\n",
    "svc_gaba = svc_gaba.fit(X_gaba, y_gaba)\n",
    "svc_mtor = svc_mtor.fit(X_mtor, y_mtor)"
   ]
  },
  {
   "cell_type": "code",
   "execution_count": 14,
   "metadata": {
    "colab": {
     "base_uri": "https://localhost:8080/"
    },
    "id": "FIZ4FCTw6ayv",
    "outputId": "2fc05f2c-2027-4708-d6d5-68f5bcc015ad"
   },
   "outputs": [
    {
     "data": {
      "text/plain": [
       "array([[0.01455057, 0.98544943]])"
      ]
     },
     "execution_count": 14,
     "metadata": {},
     "output_type": "execute_result"
    }
   ],
   "source": [
    "calcitriol = load.make_rdkit_canonical(\"C=C1C(=CC=C2CCCC3(C)C2CCC3C(C)CCCC(C)(C)O)CC(O)CC1O\")\n",
    "svc_vdr.predict_proba(load.get_fp(load.get_mol(calcitriol)).reshape(1, -1))"
   ]
  },
  {
   "cell_type": "code",
   "execution_count": 15,
   "metadata": {
    "colab": {
     "base_uri": "https://localhost:8080/"
    },
    "id": "m1t0mX8M6oi4",
    "outputId": "f70100ae-e8c3-4c5b-c1cd-fff6c5a361ec"
   },
   "outputs": [
    {
     "data": {
      "text/plain": [
       "array([[0.00287045, 0.99712955]])"
      ]
     },
     "execution_count": 15,
     "metadata": {},
     "output_type": "execute_result"
    }
   ],
   "source": [
    "diazepam = load.make_rdkit_canonical(\"CN1C(=O)CN=C(C2=C1C=CC(=C2)Cl)C3=CC=CC=C3\")\n",
    "svc_gaba.predict_proba(load.get_fp(load.get_mol(diazepam)).reshape(1, -1))"
   ]
  },
  {
   "cell_type": "code",
   "execution_count": 16,
   "metadata": {
    "colab": {
     "base_uri": "https://localhost:8080/"
    },
    "id": "oHEUGOjS6qID",
    "outputId": "eff2fa3d-c26c-4864-8bef-04743c0c05e2"
   },
   "outputs": [
    {
     "data": {
      "text/plain": [
       "array([[6.30844426e-07, 9.99999369e-01]])"
      ]
     },
     "execution_count": 16,
     "metadata": {},
     "output_type": "execute_result"
    }
   ],
   "source": [
    "torin1 = load.make_rdkit_canonical(\"CCC(=O)N1CCN(CC1)C2=C(C=C(C=C2)N3C(=O)C=CC4=CN=C5C=CC(=CC5=C43)C6=CC7=CC=CC=C7N=C6)C(F)(F)F\")\n",
    "svc_mtor.predict_proba(load.get_fp(load.get_mol(torin1)).reshape(1, -1))"
   ]
  },
  {
   "cell_type": "code",
   "execution_count": 17,
   "metadata": {
    "id": "fPRDWiCPy2pu"
   },
   "outputs": [],
   "source": [
    "if not os.path.exists('trained_svms'):\n",
    "    os.makedirs('trained_svms')"
   ]
  },
  {
   "cell_type": "code",
   "execution_count": 18,
   "metadata": {
    "id": "2UMbbfRMoEnM"
   },
   "outputs": [],
   "source": [
    "pickle.dump(svc_vdr, open('trained_svms/svc_vdr.pkl', 'wb'))\n",
    "pickle.dump(svc_gaba, open('trained_svms/svc_gaba.pkl', 'wb'))\n",
    "pickle.dump(svc_mtor, open('trained_svms/svc_mtor.pkl', 'wb'))"
   ]
  }
 ],
 "metadata": {
  "colab": {
   "name": "Prediction with SVM.ipynb",
   "provenance": []
  },
  "kernelspec": {
   "display_name": "Python 3",
   "language": "python",
   "name": "python3"
  },
  "language_info": {
   "codemirror_mode": {
    "name": "ipython",
    "version": 3
   },
   "file_extension": ".py",
   "mimetype": "text/x-python",
   "name": "python",
   "nbconvert_exporter": "python",
   "pygments_lexer": "ipython3",
   "version": "3.8.8"
  },
  "latex_envs": {
   "LaTeX_envs_menu_present": true,
   "autoclose": false,
   "autocomplete": true,
   "bibliofile": "biblio.bib",
   "cite_by": "apalike",
   "current_citInitial": 1,
   "eqLabelWithNumbers": true,
   "eqNumInitial": 1,
   "hotkeys": {
    "equation": "Ctrl-E",
    "itemize": "Ctrl-I"
   },
   "labels_anchors": false,
   "latex_user_defs": false,
   "report_style_numbering": false,
   "user_envs_cfg": false
  },
  "nbTranslate": {
   "displayLangs": [
    "*"
   ],
   "hotkey": "alt-t",
   "langInMainMenu": true,
   "sourceLang": "en",
   "targetLang": "fr",
   "useGoogleTranslate": true
  },
  "toc": {
   "base_numbering": 1,
   "nav_menu": {},
   "number_sections": true,
   "sideBar": true,
   "skip_h1_title": false,
   "title_cell": "Table of Contents",
   "title_sidebar": "Contents",
   "toc_cell": true,
   "toc_position": {},
   "toc_section_display": true,
   "toc_window_display": false
  }
 },
 "nbformat": 4,
 "nbformat_minor": 1
}
