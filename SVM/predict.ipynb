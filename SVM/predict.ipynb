{
 "cells": [
  {
   "cell_type": "markdown",
   "id": "29d85ced",
   "metadata": {
    "id": "29d85ced",
    "toc": true
   },
   "source": [
    "<h1>Table of Contents<span class=\"tocSkip\"></span></h1>\n",
    "<div class=\"toc\"><ul class=\"toc-item\"></ul></div>"
   ]
  },
  {
   "cell_type": "code",
   "execution_count": 1,
   "id": "06ba480d",
   "metadata": {
    "ExecuteTime": {
     "end_time": "2022-04-06T14:24:11.787532Z",
     "start_time": "2022-04-06T14:24:11.769413Z"
    },
    "id": "06ba480d"
   },
   "outputs": [],
   "source": [
    "import os\n",
    "\n",
    "import pandas as pd\n",
    "import numpy as np\n",
    "from data_handler import *\n",
    "\n",
    "import pickle\n",
    "\n",
    "load = LoadDBForSklearn()"
   ]
  },
  {
   "cell_type": "code",
   "execution_count": 2,
   "id": "9eded6f5",
   "metadata": {
    "ExecuteTime": {
     "end_time": "2022-04-06T14:24:12.181315Z",
     "start_time": "2022-04-06T14:24:12.173308Z"
    },
    "id": "9eded6f5"
   },
   "outputs": [],
   "source": [
    "def get_higher_quantile(df):\n",
    "    \"\"\"\n",
    "    Prints some statistics about 10% higher scores\n",
    "    \"\"\"\n",
    "    q90 = df['score-svm'].quantile(0.9)\n",
    "    sub = df[df['score-svm'] > q90]\n",
    "    sd = np.round(sub['score-svm'].std(), 3)\n",
    "    mn = np.round(sub['score-svm'].mean(), 3)\n",
    "    mx = np.round(sub['score-svm'].max(), 3)\n",
    "\n",
    "    return f\"sd={sd}, avg.={mn}, mx={mn}\""
   ]
  },
  {
   "cell_type": "code",
   "execution_count": 3,
   "id": "2c06709c",
   "metadata": {
    "ExecuteTime": {
     "end_time": "2022-04-06T14:24:12.621255Z",
     "start_time": "2022-04-06T14:24:12.507184Z"
    },
    "colab": {
     "base_uri": "https://localhost:8080/"
    },
    "id": "2c06709c",
    "outputId": "2ad9f117-b534-413b-bb28-bf4a0c632abb"
   },
   "outputs": [
    {
     "name": "stdout",
     "output_type": "stream",
     "text": [
      "\n",
      "VDR:\n",
      "\n",
      "CDN  :  sd=0.007, avg.=0.969, mx=0.969\n",
      "GMDLDR  :  sd=0.005, avg.=0.978, mx=0.978\n",
      "LigDream  :  sd=0.059, avg.=0.236, mx=0.236\n",
      "REINVENT  :  sd=0.101, avg.=0.36, mx=0.36\n",
      "REINVENT3  :  sd=0.007, avg.=0.963, mx=0.963\n",
      "TransVAE  :  sd=0.085, avg.=0.277, mx=0.277\n",
      "Transmol  :  sd=0.005, avg.=0.955, mx=0.955\n",
      "\n",
      "GABA:\n",
      "\n",
      "CDN  :  sd=0.011, avg.=0.987, mx=0.987\n",
      "GMDLDR  :  sd=0.002, avg.=0.999, mx=0.999\n",
      "LigDream  :  sd=0.047, avg.=0.875, mx=0.875\n",
      "REINVENT  :  sd=0.081, avg.=0.771, mx=0.771\n",
      "REINVENT3  :  sd=0.002, avg.=0.998, mx=0.998\n",
      "TransVAE  :  sd=0.047, avg.=0.897, mx=0.897\n",
      "Transmol  :  sd=0.004, avg.=0.992, mx=0.992\n",
      "\n",
      "MTOR:\n",
      "\n",
      "CDN  :  sd=0.0, avg.=1.0, mx=1.0\n",
      "GMDLDR  :  sd=0.0, avg.=1.0, mx=1.0\n",
      "LigDream  :  sd=0.203, avg.=0.503, mx=0.503\n",
      "REINVENT  :  sd=0.188, avg.=0.352, mx=0.352\n",
      "REINVENT3  :  sd=0.0, avg.=1.0, mx=1.0\n",
      "TransVAE  :  sd=0.088, avg.=0.282, mx=0.282\n",
      "Transmol  :  sd=0.002, avg.=0.997, mx=0.997\n"
     ]
    }
   ],
   "source": [
    "folder = \"predict_data/\"\n",
    "\n",
    "for target_folder in os.listdir(folder):\n",
    "\n",
    "    print(f\"\\n{target_folder.upper()}:\\n\")\n",
    "\n",
    "    if target_folder == 'vdr':\n",
    "        clf = pickle.load(open(\"trained_svms/svc_vdr.pkl\", 'rb'))\n",
    "\n",
    "    elif target_folder == 'gaba':\n",
    "        clf = pickle.load(open(\"trained_svms/svc_gaba.pkl\", 'rb'))\n",
    "\n",
    "    elif target_folder == 'mtor':\n",
    "        clf = pickle.load(open(\"trained_svms/svc_mtor.pkl\", 'rb'))\n",
    "\n",
    "    for file in sorted(os.listdir(folder + target_folder)):\n",
    "        df = pd.read_csv(folder + target_folder + '/' + file)\n",
    "        fp = np.vstack(df.smiles.apply(load.get_mol).apply(load.get_fp))\n",
    "\n",
    "        df['score-svm'] = clf.predict_proba(fp)[:, 1]\n",
    "\n",
    "        print(file.replace('.csv', ''), ' : ', get_higher_quantile(df))\n",
    "        df.to_csv(folder + target_folder + '/' + file, index=False)"
   ]
  }
 ],
 "metadata": {
  "colab": {
   "name": "predict.ipynb",
   "provenance": []
  },
  "kernelspec": {
   "display_name": "Python 3",
   "language": "python",
   "name": "python3"
  },
  "language_info": {
   "codemirror_mode": {
    "name": "ipython",
    "version": 3
   },
   "file_extension": ".py",
   "mimetype": "text/x-python",
   "name": "python",
   "nbconvert_exporter": "python",
   "pygments_lexer": "ipython3",
   "version": "3.8.8"
  },
  "latex_envs": {
   "LaTeX_envs_menu_present": true,
   "autoclose": false,
   "autocomplete": true,
   "bibliofile": "biblio.bib",
   "cite_by": "apalike",
   "current_citInitial": 1,
   "eqLabelWithNumbers": true,
   "eqNumInitial": 1,
   "hotkeys": {
    "equation": "Ctrl-E",
    "itemize": "Ctrl-I"
   },
   "labels_anchors": false,
   "latex_user_defs": false,
   "report_style_numbering": false,
   "user_envs_cfg": false
  },
  "nbTranslate": {
   "displayLangs": [
    "*"
   ],
   "hotkey": "alt-t",
   "langInMainMenu": true,
   "sourceLang": "en",
   "targetLang": "fr",
   "useGoogleTranslate": true
  },
  "toc": {
   "base_numbering": 1,
   "nav_menu": {},
   "number_sections": true,
   "sideBar": true,
   "skip_h1_title": false,
   "title_cell": "Table of Contents",
   "title_sidebar": "Contents",
   "toc_cell": true,
   "toc_position": {},
   "toc_section_display": true,
   "toc_window_display": false
  }
 },
 "nbformat": 4,
 "nbformat_minor": 5
}
