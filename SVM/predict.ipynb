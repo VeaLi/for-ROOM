{
  "cells": [
    {
      "cell_type": "code",
      "source": [
        "!unzip predicted_data.zip\n",
        "!unzip trained_svms.zip"
      ],
      "metadata": {
        "colab": {
          "base_uri": "https://localhost:8080/"
        },
        "id": "mqThxwBGquxj",
        "outputId": "a696f4a6-7e5a-476c-f570-0490358b8550"
      },
      "id": "mqThxwBGquxj",
      "execution_count": 1,
      "outputs": [
        {
          "output_type": "stream",
          "name": "stdout",
          "text": [
            "Archive:  predicted_data.zip\n",
            "   creating: predicted_data/\n",
            "   creating: predicted_data/gaba/\n",
            "  inflating: predicted_data/gaba/CDN.csv  \n",
            "  inflating: predicted_data/gaba/GMDLDR.csv  \n",
            "  inflating: predicted_data/gaba/LigDream.csv  \n",
            "  inflating: predicted_data/gaba/REINVENT 3.csv  \n",
            "  inflating: predicted_data/gaba/REINVENT.csv  \n",
            "  inflating: predicted_data/gaba/Transmol.csv  \n",
            "  inflating: predicted_data/gaba/TransVAE.csv  \n",
            "   creating: predicted_data/mtor/\n",
            "  inflating: predicted_data/mtor/CDN.csv  \n",
            "  inflating: predicted_data/mtor/GMDLDR.csv  \n",
            "  inflating: predicted_data/mtor/LigDream.csv  \n",
            "  inflating: predicted_data/mtor/REINVENT 3.csv  \n",
            "  inflating: predicted_data/mtor/REINVENT.csv  \n",
            "  inflating: predicted_data/mtor/Transmol.csv  \n",
            "  inflating: predicted_data/mtor/TransVAE.csv  \n",
            "   creating: predicted_data/vdr/\n",
            "  inflating: predicted_data/vdr/CDN.csv  \n",
            "  inflating: predicted_data/vdr/GMDLDR.csv  \n",
            "  inflating: predicted_data/vdr/LigDream.csv  \n",
            "  inflating: predicted_data/vdr/REINVENT 3.csv  \n",
            "  inflating: predicted_data/vdr/REINVENT.csv  \n",
            "  inflating: predicted_data/vdr/Transmol.csv  \n",
            "  inflating: predicted_data/vdr/TransVAE.csv  \n",
            "Archive:  trained_svms.zip\n",
            "   creating: trained_svms/\n",
            "  inflating: trained_svms/svc_gaba.pkl  \n",
            "  inflating: trained_svms/svc_mtor.pkl  \n",
            "  inflating: trained_svms/svc_vdr.pkl  \n"
          ]
        }
      ]
    },
    {
      "cell_type": "markdown",
      "id": "29d85ced",
      "metadata": {
        "toc": true,
        "id": "29d85ced"
      },
      "source": [
        "<h1>Table of Contents<span class=\"tocSkip\"></span></h1>\n",
        "<div class=\"toc\"><ul class=\"toc-item\"></ul></div>"
      ]
    },
    {
      "cell_type": "code",
      "source": [
        "!pip install rdkit-pypi"
      ],
      "metadata": {
        "colab": {
          "base_uri": "https://localhost:8080/"
        },
        "id": "EKwqGGyPq504",
        "outputId": "25448733-b2ac-4e5a-f561-4606d4587ed0"
      },
      "id": "EKwqGGyPq504",
      "execution_count": 4,
      "outputs": [
        {
          "output_type": "stream",
          "name": "stdout",
          "text": [
            "Collecting rdkit-pypi\n",
            "  Downloading rdkit_pypi-2022.3.1-cp37-cp37m-manylinux_2_17_x86_64.manylinux2014_x86_64.whl (22.5 MB)\n",
            "\u001b[K     |████████████████████████████████| 22.5 MB 1.3 MB/s \n",
            "\u001b[?25hRequirement already satisfied: Pillow in /usr/local/lib/python3.7/dist-packages (from rdkit-pypi) (7.1.2)\n",
            "Requirement already satisfied: numpy>=1.19 in /usr/local/lib/python3.7/dist-packages (from rdkit-pypi) (1.21.5)\n",
            "Installing collected packages: rdkit-pypi\n",
            "Successfully installed rdkit-pypi-2022.3.1\n"
          ]
        }
      ]
    },
    {
      "cell_type": "code",
      "execution_count": 5,
      "id": "06ba480d",
      "metadata": {
        "ExecuteTime": {
          "end_time": "2022-04-06T14:24:11.787532Z",
          "start_time": "2022-04-06T14:24:11.769413Z"
        },
        "id": "06ba480d"
      },
      "outputs": [],
      "source": [
        "import os\n",
        "\n",
        "import pandas as pd\n",
        "import numpy as np\n",
        "from data_handler import  *\n",
        "\n",
        "\n",
        "import pickle\n",
        "\n",
        "\n",
        "load = LoadDBForSklearn()"
      ]
    },
    {
      "cell_type": "code",
      "execution_count": 6,
      "id": "9eded6f5",
      "metadata": {
        "ExecuteTime": {
          "end_time": "2022-04-06T14:24:12.181315Z",
          "start_time": "2022-04-06T14:24:12.173308Z"
        },
        "id": "9eded6f5"
      },
      "outputs": [],
      "source": [
        "def get_higher_quantile(df):\n",
        "    \"\"\"\n",
        "    Prints some statistics about 10% higher scores\n",
        "    \"\"\"\n",
        "    q90 = df['score-svm'].quantile(0.9)\n",
        "    sub = df[df['score-svm'] > q90]\n",
        "    sd = np.round(sub['score-svm'].std(), 3)\n",
        "    mn = np.round(sub['score-svm'].mean(), 3)\n",
        "    mx = np.round(sub['score-svm'].max(), 3)\n",
        "\n",
        "    return f\"sd={sd}, avg.={mn}, mx={mn}\""
      ]
    },
    {
      "cell_type": "code",
      "execution_count": 9,
      "id": "2c06709c",
      "metadata": {
        "ExecuteTime": {
          "end_time": "2022-04-06T14:24:12.621255Z",
          "start_time": "2022-04-06T14:24:12.507184Z"
        },
        "colab": {
          "base_uri": "https://localhost:8080/"
        },
        "id": "2c06709c",
        "outputId": "21649719-b10d-45db-98e9-30548032dd0b"
      },
      "outputs": [
        {
          "output_type": "stream",
          "name": "stdout",
          "text": [
            "\n",
            "VDR:\n",
            "\n",
            "CDN  :  sd=0.007, avg.=0.969, mx=0.969\n",
            "GMDLDR  :  sd=0.005, avg.=0.978, mx=0.978\n",
            "LigDream  :  sd=0.059, avg.=0.236, mx=0.236\n",
            "REINVENT 3  :  sd=0.007, avg.=0.963, mx=0.963\n",
            "REINVENT  :  sd=0.101, avg.=0.36, mx=0.36\n",
            "TransVAE  :  sd=0.085, avg.=0.277, mx=0.277\n",
            "Transmol  :  sd=0.005, avg.=0.955, mx=0.955\n",
            "\n",
            "GABA:\n",
            "\n",
            "CDN  :  sd=0.011, avg.=0.987, mx=0.987\n",
            "GMDLDR  :  sd=0.002, avg.=0.999, mx=0.999\n",
            "LigDream  :  sd=0.047, avg.=0.875, mx=0.875\n",
            "REINVENT 3  :  sd=0.002, avg.=0.998, mx=0.998\n",
            "REINVENT  :  sd=0.081, avg.=0.771, mx=0.771\n",
            "TransVAE  :  sd=0.047, avg.=0.897, mx=0.897\n",
            "Transmol  :  sd=0.004, avg.=0.992, mx=0.992\n",
            "\n",
            "MTOR:\n",
            "\n",
            "CDN  :  sd=0.0, avg.=1.0, mx=1.0\n",
            "GMDLDR  :  sd=0.0, avg.=1.0, mx=1.0\n",
            "LigDream  :  sd=0.203, avg.=0.503, mx=0.503\n",
            "REINVENT 3  :  sd=0.0, avg.=1.0, mx=1.0\n",
            "REINVENT  :  sd=0.188, avg.=0.352, mx=0.352\n",
            "TransVAE  :  sd=0.088, avg.=0.282, mx=0.282\n",
            "Transmol  :  sd=0.002, avg.=0.997, mx=0.997\n"
          ]
        }
      ],
      "source": [
        "folder = \"predicted_data/\"\n",
        "\n",
        "for target_folder in os.listdir(folder):\n",
        "\n",
        "    print(f\"\\n{target_folder.upper()}:\\n\")\n",
        "\n",
        "    if target_folder == 'vdr':\n",
        "        clf = pickle.load(open(\"trained_svms/svc_vdr.pkl\", 'rb'))\n",
        "        \n",
        "    elif target_folder == 'gaba':\n",
        "        clf = pickle.load(open(\"trained_svms/svc_gaba.pkl\", 'rb'))\n",
        "        \n",
        "    elif target_folder == 'mtor':\n",
        "        clf = pickle.load(open(\"trained_svms/svc_mtor.pkl\", 'rb'))\n",
        "\n",
        "    for file in sorted(os.listdir(folder + target_folder)):\n",
        "        df = pd.read_csv(folder + target_folder + '/' + file)\n",
        "        fp = np.vstack(df.smiles.apply(load.get_mol).apply(load.get_fp))\n",
        "\n",
        "        df['score-svm'] = clf.predict_proba(fp)[:, 1]\n",
        "\n",
        "        print(file.replace('.csv',''), ' : ', get_higher_quantile(df))\n",
        "        df.to_csv(folder + target_folder + '/' + file, index=False)"
      ]
    },
    {
      "cell_type": "code",
      "source": [
        "!rm predicted_data.zip"
      ],
      "metadata": {
        "id": "qZLpT1ZFrF_X"
      },
      "id": "qZLpT1ZFrF_X",
      "execution_count": 10,
      "outputs": []
    },
    {
      "cell_type": "code",
      "source": [
        "!zip predicted_data.zip predicted_data/ -r"
      ],
      "metadata": {
        "colab": {
          "base_uri": "https://localhost:8080/"
        },
        "id": "IHxbnoO9rHtN",
        "outputId": "6a5229ac-b89f-4250-e911-2940964cc8ad"
      },
      "id": "IHxbnoO9rHtN",
      "execution_count": 12,
      "outputs": [
        {
          "output_type": "stream",
          "name": "stdout",
          "text": [
            "updating: predicted_data/ (stored 0%)\n",
            "  adding: predicted_data/vdr/ (stored 0%)\n",
            "  adding: predicted_data/vdr/LigDream.csv (deflated 58%)\n",
            "  adding: predicted_data/vdr/REINVENT 3.csv (deflated 59%)\n",
            "  adding: predicted_data/vdr/GMDLDR.csv (deflated 59%)\n",
            "  adding: predicted_data/vdr/Transmol.csv (deflated 60%)\n",
            "  adding: predicted_data/vdr/CDN.csv (deflated 59%)\n",
            "  adding: predicted_data/vdr/TransVAE.csv (deflated 56%)\n",
            "  adding: predicted_data/vdr/REINVENT.csv (deflated 57%)\n",
            "  adding: predicted_data/gaba/ (stored 0%)\n",
            "  adding: predicted_data/gaba/LigDream.csv (deflated 56%)\n",
            "  adding: predicted_data/gaba/REINVENT 3.csv (deflated 57%)\n",
            "  adding: predicted_data/gaba/GMDLDR.csv (deflated 57%)\n",
            "  adding: predicted_data/gaba/Transmol.csv (deflated 59%)\n",
            "  adding: predicted_data/gaba/CDN.csv (deflated 58%)\n",
            "  adding: predicted_data/gaba/TransVAE.csv (deflated 57%)\n",
            "  adding: predicted_data/gaba/REINVENT.csv (deflated 58%)\n",
            "  adding: predicted_data/mtor/ (stored 0%)\n",
            "  adding: predicted_data/mtor/LigDream.csv (deflated 58%)\n",
            "  adding: predicted_data/mtor/REINVENT 3.csv (deflated 58%)\n",
            "  adding: predicted_data/mtor/GMDLDR.csv (deflated 58%)\n",
            "  adding: predicted_data/mtor/Transmol.csv (deflated 59%)\n",
            "  adding: predicted_data/mtor/CDN.csv (deflated 59%)\n",
            "  adding: predicted_data/mtor/TransVAE.csv (deflated 58%)\n",
            "  adding: predicted_data/mtor/REINVENT.csv (deflated 58%)\n"
          ]
        }
      ]
    },
    {
      "cell_type": "code",
      "source": [
        ""
      ],
      "metadata": {
        "id": "ZaCHbSnMrKNW"
      },
      "id": "ZaCHbSnMrKNW",
      "execution_count": null,
      "outputs": []
    }
  ],
  "metadata": {
    "kernelspec": {
      "display_name": "Python 3",
      "language": "python",
      "name": "python3"
    },
    "language_info": {
      "codemirror_mode": {
        "name": "ipython",
        "version": 3
      },
      "file_extension": ".py",
      "mimetype": "text/x-python",
      "name": "python",
      "nbconvert_exporter": "python",
      "pygments_lexer": "ipython3",
      "version": "3.8.8"
    },
    "latex_envs": {
      "LaTeX_envs_menu_present": true,
      "autoclose": false,
      "autocomplete": true,
      "bibliofile": "biblio.bib",
      "cite_by": "apalike",
      "current_citInitial": 1,
      "eqLabelWithNumbers": true,
      "eqNumInitial": 1,
      "hotkeys": {
        "equation": "Ctrl-E",
        "itemize": "Ctrl-I"
      },
      "labels_anchors": false,
      "latex_user_defs": false,
      "report_style_numbering": false,
      "user_envs_cfg": false
    },
    "nbTranslate": {
      "displayLangs": [
        "*"
      ],
      "hotkey": "alt-t",
      "langInMainMenu": true,
      "sourceLang": "en",
      "targetLang": "fr",
      "useGoogleTranslate": true
    },
    "toc": {
      "base_numbering": 1,
      "nav_menu": {},
      "number_sections": true,
      "sideBar": true,
      "skip_h1_title": false,
      "title_cell": "Table of Contents",
      "title_sidebar": "Contents",
      "toc_cell": true,
      "toc_position": {},
      "toc_section_display": true,
      "toc_window_display": false
    },
    "colab": {
      "name": "predict.ipynb",
      "provenance": []
    }
  },
  "nbformat": 4,
  "nbformat_minor": 5
}